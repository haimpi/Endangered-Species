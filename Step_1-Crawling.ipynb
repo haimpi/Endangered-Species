{
 "cells": [
  {
   "cell_type": "markdown",
   "id": "dd968429",
   "metadata": {},
   "source": [
    "# Crawling data"
   ]
  },
  {
   "cell_type": "code",
   "execution_count": 1,
   "id": "e304f029",
   "metadata": {},
   "outputs": [],
   "source": [
    "from bs4 import BeautifulSoup\n",
    "import requests\n",
    "import pandas as pd\n",
    "from csv import writer\n",
    "import json\n",
    "import os\n",
    "import re\n",
    "import warnings\n",
    "warnings.filterwarnings(\"ignore\")"
   ]
  },
  {
   "cell_type": "code",
   "execution_count": 2,
   "id": "e01a8cf8",
   "metadata": {},
   "outputs": [],
   "source": [
    "url = \"https://a-z-animals.com/animals/\"\n",
    "\n",
    "headers = {'User-Agent': 'Mozilla/5.0 (Windows NT 6.1; WOW64) AppleWebKit/537.36 (KHTML, like Gecko) Chrome/56.0.2924.76 Safari/537.36'}\n",
    "res = requests.get(url, headers=headers)\n",
    "\n",
    "soup = BeautifulSoup(res.content, 'html.parser')"
   ]
  },
  {
   "cell_type": "code",
   "execution_count": 3,
   "id": "4612bed4",
   "metadata": {},
   "outputs": [],
   "source": [
    "#Getting the name and links of animals from the main website\n",
    "animals_url = []\n",
    "\n",
    "all_branches = soup.find_all(\"li\",{\"class\":\"list-item col-md-4 col-sm-6\"})\n",
    "for branch in all_branches:\n",
    "    \n",
    "    url = branch.find(\"a\")['href'] #gets the link\n",
    "    animals_url.append(url)"
   ]
  },
  {
   "cell_type": "code",
   "execution_count": 4,
   "id": "87e3d202",
   "metadata": {},
   "outputs": [],
   "source": [
    "with open('animals_URL.txt', 'w') as f:\n",
    "    for url in animals_url:\n",
    "        f.write(url + '\\n')\n",
    "# © https://medium.com/swlh/web-scraping-all-the-links-with-python-fbefa0472753"
   ]
  },
  {
   "cell_type": "code",
   "execution_count": 5,
   "id": "09732f2c",
   "metadata": {},
   "outputs": [
    {
     "data": {
      "text/plain": [
       "2461"
      ]
     },
     "execution_count": 5,
     "metadata": {},
     "output_type": "execute_result"
    }
   ],
   "source": [
    "len(animals_url)"
   ]
  },
  {
   "cell_type": "code",
   "execution_count": 6,
   "id": "760a8202",
   "metadata": {},
   "outputs": [],
   "source": [
    "All_status = ['Extinct', 'Critically Endangered', 'Endangered', 'Vulnerable', 'Near Threatened',\n",
    "                 'Conservation Dependent', 'Least Concern', 'Data Deficient', 'Not Evaluated', 'Not Listed']\n",
    "    \n",
    "All_Continents = ['Africa', 'Antarctica', 'Asia', 'Central-America', 'Eurasia', 'Europe','North-America', \n",
    "                  'Ocean', 'Oceania', 'South-America']"
   ]
  },
  {
   "cell_type": "code",
   "execution_count": 7,
   "id": "1f109cc3",
   "metadata": {},
   "outputs": [],
   "source": [
    "def get_animal_page(animal_url):\n",
    "    \n",
    "    response_animal = requests.get(animal_url, headers=headers)\n",
    "    animal_soup = BeautifulSoup(response_animal.content, \"html.parser\")\n",
    "    return animal_soup"
   ]
  },
  {
   "cell_type": "code",
   "execution_count": 8,
   "id": "02bc4916",
   "metadata": {},
   "outputs": [],
   "source": [
    "def extract_data(soup):\n",
    "    \n",
    "    animal_details = {}\n",
    "    \n",
    "    #----------------------Animal Name---------------------\n",
    "    \n",
    "    try:\n",
    "        animal_name = soup.find('h1', attrs = {\"class\": \"has-text-align-center has-custom-size text-white\"})\n",
    "        animal_details['Name'] = animal_name.text\n",
    "    except:\n",
    "        animal_details['Name'] = None\n",
    "        \n",
    "    #------------------Animal Details #1------------------\n",
    "    \n",
    "    tag_1 = [tag_1.get_text() for tag_1 in soup.findAll('dt', attrs = {\"class\":\"col-sm-3 text-md-right\"})]\n",
    "    detail_1 = [detail_1.get_text() for detail_1 in soup.findAll('dd', attrs = {\"class\":\"col-sm-9\"})]\n",
    "    \n",
    "    for i in range(0, len(tag_1)):\n",
    "        animal_details[tag_1[i]] = detail_1[i]\n",
    "    \n",
    "    #------------------Animal Details #2------------------\n",
    "    \n",
    "    tag_2 = [tag_2.get_text() for tag_2 in soup.findAll('dt', attrs = {\"class\":\"col-sm-6 text-md-right\"})]\n",
    "    detail_2 = [detail_2.get_text() for detail_2 in soup.findAll('dd', attrs = {\"class\":\"col-sm-6\"})]\n",
    "    \n",
    "    for j in range(0, len(tag_2)):\n",
    "        animal_details[tag_2[j]] = detail_2[j]\n",
    "           \n",
    "    #--------------Status (Endangered or NOT)-------------- \n",
    "    \n",
    "    detail_3 = [detail_3.get_text() for detail_3 in soup.findAll('ul', attrs = {\"class\":\"list-unstyled\"})]    \n",
    "    try:\n",
    "        for i in range(0, len(detail_3)):\n",
    "            if detail_3[i] in All_status:\n",
    "                animal_details['Endangered'] = detail_3[i] \n",
    "    except:\n",
    "        animal_details['Endangered'] = None\n",
    "        \n",
    "    #----------------Continents-----------------------------\n",
    "    \n",
    "    try:                            \n",
    "        matches = [j for j in detail_3 if any(k in j for k in All_Continents)] #checks in detail_3 is there any continent from Continents list if yes add it to matches\n",
    "        if matches:\n",
    "            animal_details['Continents'] = matches[0] #put the first string   \n",
    "    except:     \n",
    "        animal_details['Continents'] = None\n",
    "        \n",
    "    return animal_details   "
   ]
  },
  {
   "cell_type": "code",
   "execution_count": 9,
   "id": "6c0463d4",
   "metadata": {},
   "outputs": [
    {
     "name": "stdout",
     "output_type": "stream",
     "text": [
      "Function ended\n"
     ]
    }
   ],
   "source": [
    "all_animals_data = []\n",
    "animals_ERROR = []\n",
    "\n",
    "for animal_link in animals_url:\n",
    "    try:\n",
    "        animal_soup = get_animal_page(animal_link)\n",
    "        all_animals_data.append(extract_data(animal_soup))\n",
    "    except:\n",
    "        animals_ERROR.append(animal_link)     \n",
    "print(\"Function ended\")  "
   ]
  },
  {
   "cell_type": "code",
   "execution_count": 10,
   "id": "108b494b",
   "metadata": {},
   "outputs": [
    {
     "data": {
      "text/plain": [
       "['https://a-z-animals.com/animals/bolivian-anaconda/',\n",
       " 'https://a-z-animals.com/animals/green-anaconda/',\n",
       " 'https://a-z-animals.com/animals/yellow-anaconda/']"
      ]
     },
     "execution_count": 10,
     "metadata": {},
     "output_type": "execute_result"
    }
   ],
   "source": [
    "animals_ERROR"
   ]
  },
  {
   "cell_type": "code",
   "execution_count": 11,
   "id": "729fa91f",
   "metadata": {},
   "outputs": [],
   "source": [
    "#Writing the data to txt file\n",
    "json_str = json.dumps(all_animals_data)\n",
    "\n",
    "with open('animals_data.txt', 'w') as f:\n",
    "    f.write(json_str)    \n",
    "# © https://medium.com/swlh/web-scraping-all-the-links-with-python-fbefa0472753"
   ]
  }
 ],
 "metadata": {
  "kernelspec": {
   "display_name": "Python 3 (ipykernel)",
   "language": "python",
   "name": "python3"
  },
  "language_info": {
   "codemirror_mode": {
    "name": "ipython",
    "version": 3
   },
   "file_extension": ".py",
   "mimetype": "text/x-python",
   "name": "python",
   "nbconvert_exporter": "python",
   "pygments_lexer": "ipython3",
   "version": "3.9.13"
  }
 },
 "nbformat": 4,
 "nbformat_minor": 5
}
