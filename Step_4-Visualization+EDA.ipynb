{
 "cells": [
  {
   "cell_type": "code",
   "execution_count": 1,
   "id": "f86cc573",
   "metadata": {},
   "outputs": [],
   "source": [
    "import pandas as pd\n",
    "import numpy as np\n",
    "from matplotlib import pyplot as plt\n",
    "import seaborn as sns\n",
    "from scipy.stats import chi2_contingency\n",
    "import plotly.graph_objects as go\n",
    "import plotly.express as px\n",
    "import os\n",
    "import warnings\n",
    "%matplotlib inline\n",
    "warnings.filterwarnings(\"ignore\")"
   ]
  },
  {
   "cell_type": "code",
   "execution_count": 324,
   "id": "589ae5c5",
   "metadata": {},
   "outputs": [],
   "source": [
    "df = pd.read_csv(\"Animals-FINAL-Data.csv\")"
   ]
  },
  {
   "cell_type": "code",
   "execution_count": 325,
   "id": "e5c3be5a",
   "metadata": {},
   "outputs": [
    {
     "data": {
      "text/html": [
       "<div>\n",
       "<style scoped>\n",
       "    .dataframe tbody tr th:only-of-type {\n",
       "        vertical-align: middle;\n",
       "    }\n",
       "\n",
       "    .dataframe tbody tr th {\n",
       "        vertical-align: top;\n",
       "    }\n",
       "\n",
       "    .dataframe thead th {\n",
       "        text-align: right;\n",
       "    }\n",
       "</style>\n",
       "<table border=\"1\" class=\"dataframe\">\n",
       "  <thead>\n",
       "    <tr style=\"text-align: right;\">\n",
       "      <th></th>\n",
       "      <th>Animal Name</th>\n",
       "      <th>Class</th>\n",
       "      <th>Order</th>\n",
       "      <th>Family</th>\n",
       "      <th>Is_Endangered</th>\n",
       "      <th>Length(cm)</th>\n",
       "      <th>Lifespan(years)</th>\n",
       "      <th>Weight(kg)</th>\n",
       "      <th>Diet</th>\n",
       "      <th>Asia</th>\n",
       "      <th>Europe</th>\n",
       "      <th>Africa</th>\n",
       "      <th>South-America</th>\n",
       "      <th>North-America</th>\n",
       "      <th>Central-America</th>\n",
       "      <th>Antarctica</th>\n",
       "      <th>Oceania</th>\n",
       "      <th>Ocean</th>\n",
       "      <th>Eurasia</th>\n",
       "    </tr>\n",
       "  </thead>\n",
       "  <tbody>\n",
       "    <tr>\n",
       "      <th>0</th>\n",
       "      <td>Aardvark</td>\n",
       "      <td>13</td>\n",
       "      <td>Tubulidentata</td>\n",
       "      <td>Orycteropodidae</td>\n",
       "      <td>0.0</td>\n",
       "      <td>162.500000</td>\n",
       "      <td>23.0</td>\n",
       "      <td>70.000000</td>\n",
       "      <td>4</td>\n",
       "      <td>0</td>\n",
       "      <td>0</td>\n",
       "      <td>1</td>\n",
       "      <td>0</td>\n",
       "      <td>0</td>\n",
       "      <td>0</td>\n",
       "      <td>0</td>\n",
       "      <td>0</td>\n",
       "      <td>0</td>\n",
       "      <td>0</td>\n",
       "    </tr>\n",
       "    <tr>\n",
       "      <th>1</th>\n",
       "      <td>Aardwolf</td>\n",
       "      <td>13</td>\n",
       "      <td>Carnivora</td>\n",
       "      <td>Hyaenidae</td>\n",
       "      <td>0.0</td>\n",
       "      <td>93.980000</td>\n",
       "      <td>15.0</td>\n",
       "      <td>10.909091</td>\n",
       "      <td>0</td>\n",
       "      <td>0</td>\n",
       "      <td>0</td>\n",
       "      <td>1</td>\n",
       "      <td>0</td>\n",
       "      <td>0</td>\n",
       "      <td>0</td>\n",
       "      <td>0</td>\n",
       "      <td>0</td>\n",
       "      <td>0</td>\n",
       "      <td>0</td>\n",
       "    </tr>\n",
       "    <tr>\n",
       "      <th>2</th>\n",
       "      <td>Abyssinian Guinea Pig</td>\n",
       "      <td>13</td>\n",
       "      <td>Rodentia</td>\n",
       "      <td>Caviidae</td>\n",
       "      <td>0.0</td>\n",
       "      <td>1114.242496</td>\n",
       "      <td>10.0</td>\n",
       "      <td>1601.274827</td>\n",
       "      <td>4</td>\n",
       "      <td>0</td>\n",
       "      <td>0</td>\n",
       "      <td>0</td>\n",
       "      <td>1</td>\n",
       "      <td>0</td>\n",
       "      <td>0</td>\n",
       "      <td>0</td>\n",
       "      <td>0</td>\n",
       "      <td>0</td>\n",
       "      <td>0</td>\n",
       "    </tr>\n",
       "    <tr>\n",
       "      <th>3</th>\n",
       "      <td>Acadian Flycatcher</td>\n",
       "      <td>4</td>\n",
       "      <td>Passeriformes</td>\n",
       "      <td>Tyrannidae</td>\n",
       "      <td>0.0</td>\n",
       "      <td>14.478000</td>\n",
       "      <td>3.0</td>\n",
       "      <td>0.012757</td>\n",
       "      <td>3</td>\n",
       "      <td>0</td>\n",
       "      <td>0</td>\n",
       "      <td>0</td>\n",
       "      <td>1</td>\n",
       "      <td>1</td>\n",
       "      <td>1</td>\n",
       "      <td>0</td>\n",
       "      <td>0</td>\n",
       "      <td>0</td>\n",
       "      <td>0</td>\n",
       "    </tr>\n",
       "    <tr>\n",
       "      <th>4</th>\n",
       "      <td>Addax</td>\n",
       "      <td>13</td>\n",
       "      <td>Artiodactyla</td>\n",
       "      <td>Bovidae</td>\n",
       "      <td>1.0</td>\n",
       "      <td>124.460000</td>\n",
       "      <td>22.0</td>\n",
       "      <td>1601.274827</td>\n",
       "      <td>2</td>\n",
       "      <td>0</td>\n",
       "      <td>0</td>\n",
       "      <td>1</td>\n",
       "      <td>0</td>\n",
       "      <td>0</td>\n",
       "      <td>0</td>\n",
       "      <td>0</td>\n",
       "      <td>0</td>\n",
       "      <td>0</td>\n",
       "      <td>0</td>\n",
       "    </tr>\n",
       "  </tbody>\n",
       "</table>\n",
       "</div>"
      ],
      "text/plain": [
       "             Animal Name  Class          Order           Family  \\\n",
       "0               Aardvark     13  Tubulidentata  Orycteropodidae   \n",
       "1               Aardwolf     13      Carnivora        Hyaenidae   \n",
       "2  Abyssinian Guinea Pig     13       Rodentia         Caviidae   \n",
       "3     Acadian Flycatcher      4  Passeriformes       Tyrannidae   \n",
       "4                  Addax     13   Artiodactyla          Bovidae   \n",
       "\n",
       "   Is_Endangered   Length(cm)  Lifespan(years)   Weight(kg)  Diet  Asia  \\\n",
       "0            0.0   162.500000             23.0    70.000000     4     0   \n",
       "1            0.0    93.980000             15.0    10.909091     0     0   \n",
       "2            0.0  1114.242496             10.0  1601.274827     4     0   \n",
       "3            0.0    14.478000              3.0     0.012757     3     0   \n",
       "4            1.0   124.460000             22.0  1601.274827     2     0   \n",
       "\n",
       "   Europe  Africa  South-America  North-America  Central-America  Antarctica  \\\n",
       "0       0       1              0              0                0           0   \n",
       "1       0       1              0              0                0           0   \n",
       "2       0       0              1              0                0           0   \n",
       "3       0       0              1              1                1           0   \n",
       "4       0       1              0              0                0           0   \n",
       "\n",
       "   Oceania  Ocean  Eurasia  \n",
       "0        0      0        0  \n",
       "1        0      0        0  \n",
       "2        0      0        0  \n",
       "3        0      0        0  \n",
       "4        0      0        0  "
      ]
     },
     "execution_count": 325,
     "metadata": {},
     "output_type": "execute_result"
    }
   ],
   "source": [
    "df.head()"
   ]
  },
  {
   "cell_type": "code",
   "execution_count": 326,
   "id": "f54cc018",
   "metadata": {},
   "outputs": [],
   "source": [
    "df_copy = df.copy()"
   ]
  },
  {
   "cell_type": "markdown",
   "id": "de5e625a",
   "metadata": {},
   "source": [
    "# The final data:\n",
    "\n",
    "<b>Animal Name</b> (string type)\n",
    "\n",
    "<b>Class</b> (string type with 33 types or classes)\n",
    "\n",
    "<b>Order</b> (String type with 279 types of orders)\n",
    "\n",
    "<b>Family</b> (string type with 680 types of familes)\n",
    "\n",
    "<b>Is_Endangered:</b> \n",
    "  1. Safe\n",
    "  2. Not safe\n",
    "\n",
    "<b>Diet:<b>\n",
    "  1. Carnivore\n",
    "  2. Carnivorous and scavenger\n",
    "  3. Herbivore (Vegetarian)\n",
    "  4. Insectivore (Eats insects)\n",
    "  5. Omnivore - (Eats everything)\n",
    "  6. Zooplanktons \n",
    "    \n",
    "<b>Continuous Variables:<b>\n",
    "  1. Length - I had to convert them from cm/m/mm and etc to one scale(cm)\n",
    "  2. Lifespan - I had to convert them from days/weeks/months and etc to one scale(years)\n",
    "  3. Weight - I had to convert them from tons/mg and etc to one scale(kg)\n",
    "    \n",
    "<b>Continents:<b>  \n",
    "   1. Asia Europe\n",
    "   2. Africa\t\n",
    "   3. South-America\t\n",
    "   4. North-America\t\n",
    "   5. Central-America\t\n",
    "   6. Antarctica\t\n",
    "   7. Oceania\t\n",
    "   8. Ocean\t\n",
    "   9. Eurasia"
   ]
  },
  {
   "cell_type": "markdown",
   "id": "977ed0e7",
   "metadata": {},
   "source": [
    "# Line Plots\n",
    "I will check the relationship between the animals status(Endangered or Not) and their weight, length, lifespan."
   ]
  },
  {
   "cell_type": "code",
   "execution_count": 327,
   "id": "92bdb9ca",
   "metadata": {},
   "outputs": [
    {
     "data": {
      "text/plain": [
       "<AxesSubplot:xlabel='Is_Endangered'>"
      ]
     },
     "execution_count": 327,
     "metadata": {},
     "output_type": "execute_result"
    },
    {
     "data": {
      "image/png": "[encoded data removed]",
      "text/plain": [
       "<Figure size 640x480 with 1 Axes>"
      ]
     },
     "metadata": {},
     "output_type": "display_data"
    }
   ],
   "source": [
    "length_lineplot = df.groupby(['Is_Endangered']).median()[['Length(cm)']]\n",
    "length_lineplot.plot()"
   ]
  },
  {
   "cell_type": "code",
   "execution_count": 328,
   "id": "ec9ee160",
   "metadata": {},
   "outputs": [
    {
     "data": {
      "text/plain": [
       "<AxesSubplot:xlabel='Is_Endangered'>"
      ]
     },
     "execution_count": 328,
     "metadata": {},
     "output_type": "execute_result"
    },
    {
     "data": {
      "image/png": "[encoded data removed]",
      "text/plain": [
       "<Figure size 640x480 with 1 Axes>"
      ]
     },
     "metadata": {},
     "output_type": "display_data"
    }
   ],
   "source": [
    "weight_lineplot = df.groupby(['Is_Endangered']).median()[['Weight(kg)']]\n",
    "weight_lineplot.plot()"
   ]
  },
  {
   "cell_type": "code",
   "execution_count": 329,
   "id": "e1c36e91",
   "metadata": {},
   "outputs": [
    {
     "data": {
      "text/plain": [
       "<AxesSubplot:xlabel='Is_Endangered'>"
      ]
     },
     "execution_count": 329,
     "metadata": {},
     "output_type": "execute_result"
    },
    {
     "data": {
      "image/png": "[encoded data removed]",
      "text/plain": [
       "<Figure size 640x480 with 1 Axes>"
      ]
     },
     "metadata": {},
     "output_type": "display_data"
    }
   ],
   "source": [
    "lifespan_lineplot = df.groupby(['Is_Endangered']).median()[['Lifespan(years)']]\n",
    "lifespan_lineplot.plot()"
   ]
  },
  {
   "cell_type": "code",
   "execution_count": 330,
   "id": "c5ee6df9",
   "metadata": {},
   "outputs": [
    {
     "data": {
      "text/plain": [
       "<AxesSubplot:xlabel='Is_Endangered'>"
      ]
     },
     "execution_count": 330,
     "metadata": {},
     "output_type": "execute_result"
    },
    {
     "data": {
      "image/png": "[encoded data removed]",
      "text/plain": [
       "<Figure size 640x480 with 1 Axes>"
      ]
     },
     "metadata": {},
     "output_type": "display_data"
    }
   ],
   "source": [
    "animals_lineplot1 = df.groupby(['Is_Endangered']).median()[['Weight(kg)', 'Length(cm)']]\n",
    "animals_lineplot1.plot()"
   ]
  },
  {
   "cell_type": "markdown",
   "id": "ca9ebf46",
   "metadata": {},
   "source": [
    "I checked what percentage of the animals are in danger of extinction\n",
    "\n",
    "    1 - Endangered\n",
    "    0 - Safe"
   ]
  },
  {
   "cell_type": "markdown",
   "id": "03864aad",
   "metadata": {},
   "source": [
    "# Pie plot"
   ]
  },
  {
   "cell_type": "code",
   "execution_count": 331,
   "id": "b52da54c",
   "metadata": {},
   "outputs": [
    {
     "data": {
      "image/png": "[encoded data removed]",
      "text/plain": [
       "<Figure size 640x480 with 1 Axes>"
      ]
     },
     "metadata": {},
     "output_type": "display_data"
    }
   ],
   "source": [
    "df[\"Is_Endangered\"].value_counts().plot(kind='pie', autopct='%1.1f%%')\n",
    "plt.title('Animals Endangered in pie')\n",
    "plt.legend()\n",
    "plt.show()"
   ]
  },
  {
   "cell_type": "markdown",
   "id": "cd84de4f",
   "metadata": {},
   "source": [
    "# Bar Plot"
   ]
  },
  {
   "cell_type": "markdown",
   "id": "edc6647e",
   "metadata": {},
   "source": [
    "# Animal Diet   \n",
    "I will check if there is any correltion between animals diet to danger of extinction\n",
    "  1. Carnivore\n",
    "  2. Carnivorous and scavenger\n",
    "  3. Herbivore (Vegetarian)\n",
    "  4. Insectivore (Eats insects)\n",
    "  5. Omnivore - (Eats everything)\n",
    "  6. Zooplanktons  \n",
    "  \n",
    "<b>Is_Endangered:</b>\n",
    "\n",
    "   0 - (Safe), 1- (Not safe)"
   ]
  },
  {
   "cell_type": "code",
   "execution_count": 332,
   "id": "fa7704c9",
   "metadata": {},
   "outputs": [
    {
     "data": {
      "text/html": [
       "<div>\n",
       "<style scoped>\n",
       "    .dataframe tbody tr th:only-of-type {\n",
       "        vertical-align: middle;\n",
       "    }\n",
       "\n",
       "    .dataframe tbody tr th {\n",
       "        vertical-align: top;\n",
       "    }\n",
       "\n",
       "    .dataframe thead th {\n",
       "        text-align: right;\n",
       "    }\n",
       "</style>\n",
       "<table border=\"1\" class=\"dataframe\">\n",
       "  <thead>\n",
       "    <tr style=\"text-align: right;\">\n",
       "      <th>Diet</th>\n",
       "      <th>0</th>\n",
       "      <th>1</th>\n",
       "      <th>2</th>\n",
       "      <th>3</th>\n",
       "      <th>4</th>\n",
       "      <th>5</th>\n",
       "    </tr>\n",
       "    <tr>\n",
       "      <th>Is_Endangered</th>\n",
       "      <th></th>\n",
       "      <th></th>\n",
       "      <th></th>\n",
       "      <th></th>\n",
       "      <th></th>\n",
       "      <th></th>\n",
       "    </tr>\n",
       "  </thead>\n",
       "  <tbody>\n",
       "    <tr>\n",
       "      <th>0.0</th>\n",
       "      <td>0.434034</td>\n",
       "      <td>0.000956</td>\n",
       "      <td>0.129063</td>\n",
       "      <td>0.025813</td>\n",
       "      <td>0.410134</td>\n",
       "      <td>0.000000</td>\n",
       "    </tr>\n",
       "    <tr>\n",
       "      <th>1.0</th>\n",
       "      <td>0.440506</td>\n",
       "      <td>0.000000</td>\n",
       "      <td>0.255696</td>\n",
       "      <td>0.000000</td>\n",
       "      <td>0.301266</td>\n",
       "      <td>0.002532</td>\n",
       "    </tr>\n",
       "  </tbody>\n",
       "</table>\n",
       "</div>"
      ],
      "text/plain": [
       "Diet                  0         1         2         3         4         5\n",
       "Is_Endangered                                                            \n",
       "0.0            0.434034  0.000956  0.129063  0.025813  0.410134  0.000000\n",
       "1.0            0.440506  0.000000  0.255696  0.000000  0.301266  0.002532"
      ]
     },
     "execution_count": 332,
     "metadata": {},
     "output_type": "execute_result"
    }
   ],
   "source": [
    "cor_diet_endagered = pd.crosstab(df['Is_Endangered'], df['Diet'], normalize='index')\n",
    "cor_diet_endagered"
   ]
  },
  {
   "cell_type": "code",
   "execution_count": 333,
   "id": "24f009dc",
   "metadata": {},
   "outputs": [
    {
     "data": {
      "text/plain": [
       "Text(0, 0.5, 'Diet')"
      ]
     },
     "execution_count": 333,
     "metadata": {},
     "output_type": "execute_result"
    },
    {
     "data": {
      "image/png": "[encoded data removed]",
      "text/plain": [
       "<Figure size 1000x500 with 1 Axes>"
      ]
     },
     "metadata": {},
     "output_type": "display_data"
    }
   ],
   "source": [
    "cor_diet_endagered.plot(kind ='bar', figsize=(10,5))\n",
    "plt.title('Is_Endangered vs. Diet', fontsize=10)\n",
    "plt.xlabel('Is_Endangered')\n",
    "plt.ylabel('Diet')"
   ]
  },
  {
   "cell_type": "markdown",
   "id": "8d2e0125",
   "metadata": {},
   "source": [
    "I wanted to check which type of class more animals endangered"
   ]
  },
  {
   "cell_type": "code",
   "execution_count": 354,
   "id": "ab7ddff6",
   "metadata": {},
   "outputs": [
    {
     "data": {
      "text/plain": [
       "<matplotlib.legend.Legend at 0x25f2d506bb0>"
      ]
     },
     "execution_count": 354,
     "metadata": {},
     "output_type": "execute_result"
    },
    {
     "data": {
      "image/png": "[encoded data removed]",
      "text/plain": [
       "<Figure size 1200x400 with 1 Axes>"
      ]
     },
     "metadata": {},
     "output_type": "display_data"
    }
   ],
   "source": [
    "g = sns.catplot(\n",
    "    x='Class', \n",
    "    data = df_copy,\n",
    "    kind='count', \n",
    "    hue='Is_Endangered',\n",
    "    height=4, \n",
    "    aspect=3,\n",
    "    legend=False,\n",
    "    ).set_axis_labels('Class', 'Number of animals')\n",
    "g.ax.legend(labels=['Not Endangered','Endangered'])"
   ]
  },
  {
   "cell_type": "code",
   "execution_count": 355,
   "id": "0e0cd297",
   "metadata": {},
   "outputs": [
    {
     "data": {
      "text/html": [
       "<div>\n",
       "<style scoped>\n",
       "    .dataframe tbody tr th:only-of-type {\n",
       "        vertical-align: middle;\n",
       "    }\n",
       "\n",
       "    .dataframe tbody tr th {\n",
       "        vertical-align: top;\n",
       "    }\n",
       "\n",
       "    .dataframe thead th {\n",
       "        text-align: right;\n",
       "    }\n",
       "</style>\n",
       "<table border=\"1\" class=\"dataframe\">\n",
       "  <thead>\n",
       "    <tr style=\"text-align: right;\">\n",
       "      <th></th>\n",
       "      <th>Animal Name</th>\n",
       "      <th>Class</th>\n",
       "      <th>Order</th>\n",
       "      <th>Family</th>\n",
       "      <th>Is_Endangered</th>\n",
       "      <th>Length(cm)</th>\n",
       "      <th>Lifespan(years)</th>\n",
       "      <th>Weight(kg)</th>\n",
       "      <th>Diet</th>\n",
       "      <th>Asia</th>\n",
       "      <th>Europe</th>\n",
       "      <th>Africa</th>\n",
       "      <th>South-America</th>\n",
       "      <th>North-America</th>\n",
       "      <th>Central-America</th>\n",
       "      <th>Antarctica</th>\n",
       "      <th>Oceania</th>\n",
       "      <th>Ocean</th>\n",
       "      <th>Eurasia</th>\n",
       "    </tr>\n",
       "  </thead>\n",
       "  <tbody>\n",
       "    <tr>\n",
       "      <th>0</th>\n",
       "      <td>Aardvark</td>\n",
       "      <td>13</td>\n",
       "      <td>Tubulidentata</td>\n",
       "      <td>Orycteropodidae</td>\n",
       "      <td>0.0</td>\n",
       "      <td>162.500000</td>\n",
       "      <td>23.000000</td>\n",
       "      <td>70.000000</td>\n",
       "      <td>4</td>\n",
       "      <td>0</td>\n",
       "      <td>0</td>\n",
       "      <td>1</td>\n",
       "      <td>0</td>\n",
       "      <td>0</td>\n",
       "      <td>0</td>\n",
       "      <td>0</td>\n",
       "      <td>0</td>\n",
       "      <td>0</td>\n",
       "      <td>0</td>\n",
       "    </tr>\n",
       "    <tr>\n",
       "      <th>1</th>\n",
       "      <td>Aardwolf</td>\n",
       "      <td>13</td>\n",
       "      <td>Carnivora</td>\n",
       "      <td>Hyaenidae</td>\n",
       "      <td>0.0</td>\n",
       "      <td>93.980000</td>\n",
       "      <td>15.000000</td>\n",
       "      <td>10.909091</td>\n",
       "      <td>0</td>\n",
       "      <td>0</td>\n",
       "      <td>0</td>\n",
       "      <td>1</td>\n",
       "      <td>0</td>\n",
       "      <td>0</td>\n",
       "      <td>0</td>\n",
       "      <td>0</td>\n",
       "      <td>0</td>\n",
       "      <td>0</td>\n",
       "      <td>0</td>\n",
       "    </tr>\n",
       "    <tr>\n",
       "      <th>2</th>\n",
       "      <td>Abyssinian Guinea Pig</td>\n",
       "      <td>13</td>\n",
       "      <td>Rodentia</td>\n",
       "      <td>Caviidae</td>\n",
       "      <td>0.0</td>\n",
       "      <td>1114.242496</td>\n",
       "      <td>10.000000</td>\n",
       "      <td>1601.274827</td>\n",
       "      <td>4</td>\n",
       "      <td>0</td>\n",
       "      <td>0</td>\n",
       "      <td>0</td>\n",
       "      <td>1</td>\n",
       "      <td>0</td>\n",
       "      <td>0</td>\n",
       "      <td>0</td>\n",
       "      <td>0</td>\n",
       "      <td>0</td>\n",
       "      <td>0</td>\n",
       "    </tr>\n",
       "    <tr>\n",
       "      <th>4</th>\n",
       "      <td>Addax</td>\n",
       "      <td>13</td>\n",
       "      <td>Artiodactyla</td>\n",
       "      <td>Bovidae</td>\n",
       "      <td>1.0</td>\n",
       "      <td>124.460000</td>\n",
       "      <td>22.000000</td>\n",
       "      <td>1601.274827</td>\n",
       "      <td>2</td>\n",
       "      <td>0</td>\n",
       "      <td>0</td>\n",
       "      <td>1</td>\n",
       "      <td>0</td>\n",
       "      <td>0</td>\n",
       "      <td>0</td>\n",
       "      <td>0</td>\n",
       "      <td>0</td>\n",
       "      <td>0</td>\n",
       "      <td>0</td>\n",
       "    </tr>\n",
       "    <tr>\n",
       "      <th>8</th>\n",
       "      <td>African Bush Elephant</td>\n",
       "      <td>13</td>\n",
       "      <td>Proboscidea</td>\n",
       "      <td>Elephantidae</td>\n",
       "      <td>0.0</td>\n",
       "      <td>1114.242496</td>\n",
       "      <td>65.000000</td>\n",
       "      <td>301.500000</td>\n",
       "      <td>2</td>\n",
       "      <td>0</td>\n",
       "      <td>0</td>\n",
       "      <td>1</td>\n",
       "      <td>0</td>\n",
       "      <td>0</td>\n",
       "      <td>0</td>\n",
       "      <td>0</td>\n",
       "      <td>0</td>\n",
       "      <td>0</td>\n",
       "      <td>0</td>\n",
       "    </tr>\n",
       "    <tr>\n",
       "      <th>...</th>\n",
       "      <td>...</td>\n",
       "      <td>...</td>\n",
       "      <td>...</td>\n",
       "      <td>...</td>\n",
       "      <td>...</td>\n",
       "      <td>...</td>\n",
       "      <td>...</td>\n",
       "      <td>...</td>\n",
       "      <td>...</td>\n",
       "      <td>...</td>\n",
       "      <td>...</td>\n",
       "      <td>...</td>\n",
       "      <td>...</td>\n",
       "      <td>...</td>\n",
       "      <td>...</td>\n",
       "      <td>...</td>\n",
       "      <td>...</td>\n",
       "      <td>...</td>\n",
       "      <td>...</td>\n",
       "    </tr>\n",
       "    <tr>\n",
       "      <th>1417</th>\n",
       "      <td>Yak</td>\n",
       "      <td>13</td>\n",
       "      <td>Artiodactyla</td>\n",
       "      <td>Bovidae</td>\n",
       "      <td>0.0</td>\n",
       "      <td>1114.242496</td>\n",
       "      <td>17.500000</td>\n",
       "      <td>150.500000</td>\n",
       "      <td>2</td>\n",
       "      <td>1</td>\n",
       "      <td>0</td>\n",
       "      <td>0</td>\n",
       "      <td>0</td>\n",
       "      <td>0</td>\n",
       "      <td>0</td>\n",
       "      <td>0</td>\n",
       "      <td>0</td>\n",
       "      <td>0</td>\n",
       "      <td>1</td>\n",
       "    </tr>\n",
       "    <tr>\n",
       "      <th>1431</th>\n",
       "      <td>Yoranian</td>\n",
       "      <td>13</td>\n",
       "      <td>Carnivora</td>\n",
       "      <td>Canidae</td>\n",
       "      <td>0.0</td>\n",
       "      <td>27.940000</td>\n",
       "      <td>13.500000</td>\n",
       "      <td>2.267965</td>\n",
       "      <td>4</td>\n",
       "      <td>0</td>\n",
       "      <td>0</td>\n",
       "      <td>0</td>\n",
       "      <td>0</td>\n",
       "      <td>1</td>\n",
       "      <td>0</td>\n",
       "      <td>0</td>\n",
       "      <td>0</td>\n",
       "      <td>0</td>\n",
       "      <td>0</td>\n",
       "    </tr>\n",
       "    <tr>\n",
       "      <th>1432</th>\n",
       "      <td>Zebra</td>\n",
       "      <td>13</td>\n",
       "      <td>Perissodactyla</td>\n",
       "      <td>Equidae</td>\n",
       "      <td>1.0</td>\n",
       "      <td>237.500000</td>\n",
       "      <td>25.000000</td>\n",
       "      <td>312.500000</td>\n",
       "      <td>2</td>\n",
       "      <td>0</td>\n",
       "      <td>0</td>\n",
       "      <td>1</td>\n",
       "      <td>0</td>\n",
       "      <td>0</td>\n",
       "      <td>0</td>\n",
       "      <td>0</td>\n",
       "      <td>0</td>\n",
       "      <td>0</td>\n",
       "      <td>0</td>\n",
       "    </tr>\n",
       "    <tr>\n",
       "      <th>1439</th>\n",
       "      <td>Zebu</td>\n",
       "      <td>13</td>\n",
       "      <td>Artiodactyla</td>\n",
       "      <td>Bovidae</td>\n",
       "      <td>0.0</td>\n",
       "      <td>1114.242496</td>\n",
       "      <td>14.000000</td>\n",
       "      <td>175.000000</td>\n",
       "      <td>2</td>\n",
       "      <td>1</td>\n",
       "      <td>0</td>\n",
       "      <td>1</td>\n",
       "      <td>0</td>\n",
       "      <td>0</td>\n",
       "      <td>0</td>\n",
       "      <td>0</td>\n",
       "      <td>0</td>\n",
       "      <td>0</td>\n",
       "      <td>0</td>\n",
       "    </tr>\n",
       "    <tr>\n",
       "      <th>1440</th>\n",
       "      <td>Zokor</td>\n",
       "      <td>13</td>\n",
       "      <td>Rodentia</td>\n",
       "      <td>Spalacidae</td>\n",
       "      <td>0.0</td>\n",
       "      <td>1114.242496</td>\n",
       "      <td>19.474842</td>\n",
       "      <td>0.354369</td>\n",
       "      <td>4</td>\n",
       "      <td>1</td>\n",
       "      <td>0</td>\n",
       "      <td>0</td>\n",
       "      <td>0</td>\n",
       "      <td>0</td>\n",
       "      <td>0</td>\n",
       "      <td>0</td>\n",
       "      <td>0</td>\n",
       "      <td>0</td>\n",
       "      <td>1</td>\n",
       "    </tr>\n",
       "  </tbody>\n",
       "</table>\n",
       "<p>446 rows × 19 columns</p>\n",
       "</div>"
      ],
      "text/plain": [
       "                Animal Name  Class           Order           Family  \\\n",
       "0                  Aardvark     13   Tubulidentata  Orycteropodidae   \n",
       "1                  Aardwolf     13       Carnivora        Hyaenidae   \n",
       "2     Abyssinian Guinea Pig     13        Rodentia         Caviidae   \n",
       "4                     Addax     13    Artiodactyla          Bovidae   \n",
       "8     African Bush Elephant     13     Proboscidea     Elephantidae   \n",
       "...                     ...    ...             ...              ...   \n",
       "1417                    Yak     13    Artiodactyla          Bovidae   \n",
       "1431               Yoranian     13       Carnivora          Canidae   \n",
       "1432                  Zebra     13  Perissodactyla          Equidae   \n",
       "1439                   Zebu     13    Artiodactyla          Bovidae   \n",
       "1440                  Zokor     13        Rodentia       Spalacidae   \n",
       "\n",
       "      Is_Endangered   Length(cm)  Lifespan(years)   Weight(kg)  Diet  Asia  \\\n",
       "0               0.0   162.500000        23.000000    70.000000     4     0   \n",
       "1               0.0    93.980000        15.000000    10.909091     0     0   \n",
       "2               0.0  1114.242496        10.000000  1601.274827     4     0   \n",
       "4               1.0   124.460000        22.000000  1601.274827     2     0   \n",
       "8               0.0  1114.242496        65.000000   301.500000     2     0   \n",
       "...             ...          ...              ...          ...   ...   ...   \n",
       "1417            0.0  1114.242496        17.500000   150.500000     2     1   \n",
       "1431            0.0    27.940000        13.500000     2.267965     4     0   \n",
       "1432            1.0   237.500000        25.000000   312.500000     2     0   \n",
       "1439            0.0  1114.242496        14.000000   175.000000     2     1   \n",
       "1440            0.0  1114.242496        19.474842     0.354369     4     1   \n",
       "\n",
       "      Europe  Africa  South-America  North-America  Central-America  \\\n",
       "0          0       1              0              0                0   \n",
       "1          0       1              0              0                0   \n",
       "2          0       0              1              0                0   \n",
       "4          0       1              0              0                0   \n",
       "8          0       1              0              0                0   \n",
       "...      ...     ...            ...            ...              ...   \n",
       "1417       0       0              0              0                0   \n",
       "1431       0       0              0              1                0   \n",
       "1432       0       1              0              0                0   \n",
       "1439       0       1              0              0                0   \n",
       "1440       0       0              0              0                0   \n",
       "\n",
       "      Antarctica  Oceania  Ocean  Eurasia  \n",
       "0              0        0      0        0  \n",
       "1              0        0      0        0  \n",
       "2              0        0      0        0  \n",
       "4              0        0      0        0  \n",
       "8              0        0      0        0  \n",
       "...          ...      ...    ...      ...  \n",
       "1417           0        0      0        1  \n",
       "1431           0        0      0        0  \n",
       "1432           0        0      0        0  \n",
       "1439           0        0      0        0  \n",
       "1440           0        0      0        1  \n",
       "\n",
       "[446 rows x 19 columns]"
      ]
     },
     "execution_count": 355,
     "metadata": {},
     "output_type": "execute_result"
    }
   ],
   "source": [
    "endangered_class_df = df_copy[(df_copy['Class'] == 13)]\n",
    "endangered_class_df"
   ]
  },
  {
   "cell_type": "markdown",
   "id": "b1525997",
   "metadata": {},
   "source": [
    "# World Map\n",
    "I checked the ratio between endangered and not endangered animals by their contient with added map"
   ]
  },
  {
   "cell_type": "code",
   "execution_count": 334,
   "id": "7fc843d9",
   "metadata": {
    "scrolled": true
   },
   "outputs": [
    {
     "data": {
      "text/html": [
       "<div>\n",
       "<style scoped>\n",
       "    .dataframe tbody tr th:only-of-type {\n",
       "        vertical-align: middle;\n",
       "    }\n",
       "\n",
       "    .dataframe tbody tr th {\n",
       "        vertical-align: top;\n",
       "    }\n",
       "\n",
       "    .dataframe thead th {\n",
       "        text-align: right;\n",
       "    }\n",
       "</style>\n",
       "<table border=\"1\" class=\"dataframe\">\n",
       "  <thead>\n",
       "    <tr style=\"text-align: right;\">\n",
       "      <th></th>\n",
       "      <th>continent</th>\n",
       "      <th>ratio</th>\n",
       "    </tr>\n",
       "  </thead>\n",
       "  <tbody>\n",
       "    <tr>\n",
       "      <th>0</th>\n",
       "      <td>Africa</td>\n",
       "      <td>21.945137</td>\n",
       "    </tr>\n",
       "    <tr>\n",
       "      <th>1</th>\n",
       "      <td>Asia</td>\n",
       "      <td>30.118110</td>\n",
       "    </tr>\n",
       "    <tr>\n",
       "      <th>2</th>\n",
       "      <td>Europe</td>\n",
       "      <td>19.822485</td>\n",
       "    </tr>\n",
       "    <tr>\n",
       "      <th>3</th>\n",
       "      <td>Americas</td>\n",
       "      <td>25.045372</td>\n",
       "    </tr>\n",
       "    <tr>\n",
       "      <th>4</th>\n",
       "      <td>Antarctica</td>\n",
       "      <td>34.375000</td>\n",
       "    </tr>\n",
       "    <tr>\n",
       "      <th>5</th>\n",
       "      <td>Oceania</td>\n",
       "      <td>21.538462</td>\n",
       "    </tr>\n",
       "    <tr>\n",
       "      <th>6</th>\n",
       "      <td>Ocean</td>\n",
       "      <td>25.744681</td>\n",
       "    </tr>\n",
       "    <tr>\n",
       "      <th>7</th>\n",
       "      <td>Eurasia</td>\n",
       "      <td>18.442623</td>\n",
       "    </tr>\n",
       "  </tbody>\n",
       "</table>\n",
       "</div>"
      ],
      "text/plain": [
       "    continent      ratio\n",
       "0      Africa  21.945137\n",
       "1        Asia  30.118110\n",
       "2      Europe  19.822485\n",
       "3    Americas  25.045372\n",
       "4  Antarctica  34.375000\n",
       "5     Oceania  21.538462\n",
       "6       Ocean  25.744681\n",
       "7     Eurasia  18.442623"
      ]
     },
     "execution_count": 334,
     "metadata": {},
     "output_type": "execute_result"
    }
   ],
   "source": [
    "Africa_df = df[(df['Africa'] == 1)] #select rows with #1 value\n",
    "Africa_ratio = Africa_df['Is_Endangered'].mean() * 100\n",
    "\n",
    "Asia_df = df[(df['Asia'] == 1)] #select rows with #1 value\n",
    "Asia_ratio = Asia_df['Is_Endangered'].mean() * 100\n",
    "\n",
    "Europe_df = df[(df['Europe'] == 1)] #select rows with #1 value\n",
    "Europe_ratio = Europe_df['Is_Endangered'].mean() * 100\n",
    "\n",
    "America_df = df[(df['South-America'] == 1) ^ (df['North-America'] == 1) ^ # gathering all america together becuase iso-alpha in the next step\n",
    "                      (df['Central-America'] == 1)] #select rows with #1 value\n",
    "America_ratio = America_df['Is_Endangered'].mean() * 100\n",
    "\n",
    "Antarctica_df = df[(df['Antarctica'] == 1)] #select rows with #1 value\n",
    "Antarctica_ratio = Antarctica_df['Is_Endangered'].mean() * 100\n",
    "\n",
    "Oceania_df = df[(df['Oceania'] == 1)] #select rows with #1 value\n",
    "Oceania_ratio = Oceania_df['Is_Endangered'].mean() * 100\n",
    "\n",
    "Ocean_df = df[(df['Ocean'] == 1)] #select rows with #1 value\n",
    "Ocean_ratio = Ocean_df['Is_Endangered'].mean() * 100\n",
    "\n",
    "Eurasia_df = df[(df['Eurasia'] == 1)] #select rows with #1 value\n",
    "Eurasia_ratio = Eurasia_df['Is_Endangered'].mean() * 100\n",
    "\n",
    "continents_dict = {'continent':['Africa', 'Asia', 'Europe', 'Americas', 'Antarctica', 'Oceania', 'Ocean', 'Eurasia'],\n",
    "                   'ratio':[Africa_ratio,Asia_ratio, Europe_ratio, America_ratio, Antarctica_ratio, Oceania_ratio, Ocean_ratio, Eurasia_ratio]}\n",
    "\n",
    "Continents_df = pd.DataFrame(continents_dict)\n",
    "Continents_df"
   ]
  },
  {
   "cell_type": "code",
   "execution_count": 335,
   "id": "64492bc2",
   "metadata": {
    "scrolled": true
   },
   "outputs": [
    {
     "data": {
      "application/vnd.plotly.v1+json": {
       "config": {
        "plotlyServerURL": "https://plot.ly"
       },
       "data": [
        {
         "coloraxis": "coloraxis",
         "geo": "geo",
         "hovertemplate": "<b>%{hovertext}</b><br><br>iso_alpha=%{location}<br>ratio=%{z}<extra></extra>",
         "hovertext": [
          "Asia",
          "Europe",
          "Africa",
          "Africa",
          "Americas",
          "Oceania",
          "Europe",
          "Asia",
          "Asia",
          "Europe",
          "Africa",
          "Americas",
          "Europe",
          "Africa",
          "Americas",
          "Europe",
          "Africa",
          "Africa",
          "Asia",
          "Africa",
          "Americas",
          "Africa",
          "Africa",
          "Americas",
          "Asia",
          "Americas",
          "Africa",
          "Africa",
          "Africa",
          "Americas",
          "Africa",
          "Europe",
          "Americas",
          "Europe",
          "Europe",
          "Africa",
          "Americas",
          "Americas",
          "Africa",
          "Americas",
          "Africa",
          "Africa",
          "Africa",
          "Europe",
          "Europe",
          "Africa",
          "Africa",
          "Europe",
          "Africa",
          "Europe",
          "Americas",
          "Africa",
          "Africa",
          "Americas",
          "Americas",
          "Asia",
          "Europe",
          "Europe",
          "Asia",
          "Asia",
          "Asia",
          "Asia",
          "Europe",
          "Asia",
          "Europe",
          "Americas",
          "Asia",
          "Asia",
          "Africa",
          "Asia",
          "Asia",
          "Asia",
          "Asia",
          "Africa",
          "Africa",
          "Africa",
          "Africa",
          "Africa",
          "Asia",
          "Africa",
          "Africa",
          "Africa",
          "Americas",
          "Asia",
          "Europe",
          "Africa",
          "Africa",
          "Asia",
          "Africa",
          "Asia",
          "Europe",
          "Oceania",
          "Americas",
          "Africa",
          "Africa",
          "Europe",
          "Asia",
          "Asia",
          "Americas",
          "Americas",
          "Americas",
          "Asia",
          "Europe",
          "Europe",
          "Americas",
          "Africa",
          "Europe",
          "Africa",
          "Africa",
          "Asia",
          "Africa",
          "Europe",
          "Africa",
          "Asia",
          "Europe",
          "Europe",
          "Africa",
          "Africa",
          "Europe",
          "Asia",
          "Africa",
          "Africa",
          "Europe",
          "Europe",
          "Asia",
          "Asia",
          "Africa",
          "Asia",
          "Africa",
          "Americas",
          "Africa",
          "Europe",
          "Africa",
          "Europe",
          "Americas",
          "Americas",
          "Americas",
          "Asia",
          "Asia",
          "Asia",
          "Africa",
          "Africa"
         ],
         "locations": [
          "AFG",
          "ALB",
          "DZA",
          "AGO",
          "ARG",
          "AUS",
          "AUT",
          "BHR",
          "BGD",
          "BEL",
          "BEN",
          "BOL",
          "BIH",
          "BWA",
          "BRA",
          "BGR",
          "BFA",
          "BDI",
          "KHM",
          "CMR",
          "CAN",
          "CAF",
          "TCD",
          "CHL",
          "CHN",
          "COL",
          "COM",
          "COD",
          "COG",
          "CRI",
          "CIV",
          "HRV",
          "CUB",
          "CZE",
          "DNK",
          "DJI",
          "DOM",
          "ECU",
          "EGY",
          "SLV",
          "GNQ",
          "ERI",
          "ETH",
          "FIN",
          "FRA",
          "GAB",
          "GMB",
          "DEU",
          "GHA",
          "GRC",
          "GTM",
          "GIN",
          "GNB",
          "HTI",
          "HND",
          "HKG",
          "HUN",
          "ISL",
          "IND",
          "IDN",
          "IRN",
          "IRQ",
          "IRL",
          "ISR",
          "ITA",
          "JAM",
          "JPN",
          "JOR",
          "KEN",
          "KOR",
          "KOR",
          "KWT",
          "LBN",
          "LSO",
          "LBR",
          "LBY",
          "MDG",
          "MWI",
          "MYS",
          "MLI",
          "MRT",
          "MUS",
          "MEX",
          "MNG",
          "MNE",
          "MAR",
          "MOZ",
          "MMR",
          "NAM",
          "NPL",
          "NLD",
          "NZL",
          "NIC",
          "NER",
          "NGA",
          "NOR",
          "OMN",
          "PAK",
          "PAN",
          "PRY",
          "PER",
          "PHL",
          "POL",
          "PRT",
          "PRI",
          "REU",
          "ROU",
          "RWA",
          "STP",
          "SAU",
          "SEN",
          "SRB",
          "SLE",
          "SGP",
          "SVK",
          "SVN",
          "SOM",
          "ZAF",
          "ESP",
          "LKA",
          "SDN",
          "SWZ",
          "SWE",
          "CHE",
          "SYR",
          "TWN",
          "TZA",
          "THA",
          "TGO",
          "TTO",
          "TUN",
          "TUR",
          "UGA",
          "GBR",
          "USA",
          "URY",
          "VEN",
          "VNM",
          "PSE",
          "YEM",
          "ZMB",
          "ZWE"
         ],
         "name": "",
         "type": "choropleth",
         "z": [
          30.118110236220474,
          19.82248520710059,
          21.94513715710723,
          21.94513715710723,
          25.045372050816695,
          21.53846153846154,
          19.82248520710059,
          30.118110236220474,
          30.118110236220474,
          19.82248520710059,
          21.94513715710723,
          25.045372050816695,
          19.82248520710059,
          21.94513715710723,
          25.045372050816695,
          19.82248520710059,
          21.94513715710723,
          21.94513715710723,
          30.118110236220474,
          21.94513715710723,
          25.045372050816695,
          21.94513715710723,
          21.94513715710723,
          25.045372050816695,
          30.118110236220474,
          25.045372050816695,
          21.94513715710723,
          21.94513715710723,
          21.94513715710723,
          25.045372050816695,
          21.94513715710723,
          19.82248520710059,
          25.045372050816695,
          19.82248520710059,
          19.82248520710059,
          21.94513715710723,
          25.045372050816695,
          25.045372050816695,
          21.94513715710723,
          25.045372050816695,
          21.94513715710723,
          21.94513715710723,
          21.94513715710723,
          19.82248520710059,
          19.82248520710059,
          21.94513715710723,
          21.94513715710723,
          19.82248520710059,
          21.94513715710723,
          19.82248520710059,
          25.045372050816695,
          21.94513715710723,
          21.94513715710723,
          25.045372050816695,
          25.045372050816695,
          30.118110236220474,
          19.82248520710059,
          19.82248520710059,
          30.118110236220474,
          30.118110236220474,
          30.118110236220474,
          30.118110236220474,
          19.82248520710059,
          30.118110236220474,
          19.82248520710059,
          25.045372050816695,
          30.118110236220474,
          30.118110236220474,
          21.94513715710723,
          30.118110236220474,
          30.118110236220474,
          30.118110236220474,
          30.118110236220474,
          21.94513715710723,
          21.94513715710723,
          21.94513715710723,
          21.94513715710723,
          21.94513715710723,
          30.118110236220474,
          21.94513715710723,
          21.94513715710723,
          21.94513715710723,
          25.045372050816695,
          30.118110236220474,
          19.82248520710059,
          21.94513715710723,
          21.94513715710723,
          30.118110236220474,
          21.94513715710723,
          30.118110236220474,
          19.82248520710059,
          21.53846153846154,
          25.045372050816695,
          21.94513715710723,
          21.94513715710723,
          19.82248520710059,
          30.118110236220474,
          30.118110236220474,
          25.045372050816695,
          25.045372050816695,
          25.045372050816695,
          30.118110236220474,
          19.82248520710059,
          19.82248520710059,
          25.045372050816695,
          21.94513715710723,
          19.82248520710059,
          21.94513715710723,
          21.94513715710723,
          30.118110236220474,
          21.94513715710723,
          19.82248520710059,
          21.94513715710723,
          30.118110236220474,
          19.82248520710059,
          19.82248520710059,
          21.94513715710723,
          21.94513715710723,
          19.82248520710059,
          30.118110236220474,
          21.94513715710723,
          21.94513715710723,
          19.82248520710059,
          19.82248520710059,
          30.118110236220474,
          30.118110236220474,
          21.94513715710723,
          30.118110236220474,
          21.94513715710723,
          25.045372050816695,
          21.94513715710723,
          19.82248520710059,
          21.94513715710723,
          19.82248520710059,
          25.045372050816695,
          25.045372050816695,
          25.045372050816695,
          30.118110236220474,
          30.118110236220474,
          30.118110236220474,
          21.94513715710723,
          21.94513715710723
         ]
        }
       ],
       "layout": {
        "coloraxis": {
         "colorbar": {
          "title": {
           "text": "ratio"
          }
         },
         "colorscale": [
          [
           0,
           "#0d0887"
          ],
          [
           0.1111111111111111,
           "#46039f"
          ],
          [
           0.2222222222222222,
           "#7201a8"
          ],
          [
           0.3333333333333333,
           "#9c179e"
          ],
          [
           0.4444444444444444,
           "#bd3786"
          ],
          [
           0.5555555555555556,
           "#d8576b"
          ],
          [
           0.6666666666666666,
           "#ed7953"
          ],
          [
           0.7777777777777778,
           "#fb9f3a"
          ],
          [
           0.8888888888888888,
           "#fdca26"
          ],
          [
           1,
           "#f0f921"
          ]
         ]
        },
        "geo": {
         "center": {},
         "domain": {
          "x": [
           0,
           1
          ],
          "y": [
           0,
           1
          ]
         },
         "projection": {
          "type": "natural earth"
         }
        },
        "height": 300,
        "legend": {
         "tracegroupgap": 0
        },
        "margin": {
         "b": 0,
         "l": 0,
         "r": 0,
         "t": 0
        },
        "template": {
         "data": {
          "bar": [
           {
            "error_x": {
             "color": "#2a3f5f"
            },
            "error_y": {
             "color": "#2a3f5f"
            },
            "marker": {
             "line": {
              "color": "#E5ECF6",
              "width": 0.5
             },
             "pattern": {
              "fillmode": "overlay",
              "size": 10,
              "solidity": 0.2
             }
            },
            "type": "bar"
           }
          ],
          "barpolar": [
           {
            "marker": {
             "line": {
              "color": "#E5ECF6",
              "width": 0.5
             },
             "pattern": {
              "fillmode": "overlay",
              "size": 10,
              "solidity": 0.2
             }
            },
            "type": "barpolar"
           }
          ],
          "carpet": [
           {
            "aaxis": {
             "endlinecolor": "#2a3f5f",
             "gridcolor": "white",
             "linecolor": "white",
             "minorgridcolor": "white",
             "startlinecolor": "#2a3f5f"
            },
            "baxis": {
             "endlinecolor": "#2a3f5f",
             "gridcolor": "white",
             "linecolor": "white",
             "minorgridcolor": "white",
             "startlinecolor": "#2a3f5f"
            },
            "type": "carpet"
           }
          ],
          "choropleth": [
           {
            "colorbar": {
             "outlinewidth": 0,
             "ticks": ""
            },
            "type": "choropleth"
           }
          ],
          "contour": [
           {
            "colorbar": {
             "outlinewidth": 0,
             "ticks": ""
            },
            "colorscale": [
             [
              0,
              "#0d0887"
             ],
             [
              0.1111111111111111,
              "#46039f"
             ],
             [
              0.2222222222222222,
              "#7201a8"
             ],
             [
              0.3333333333333333,
              "#9c179e"
             ],
             [
              0.4444444444444444,
              "#bd3786"
             ],
             [
              0.5555555555555556,
              "#d8576b"
             ],
             [
              0.6666666666666666,
              "#ed7953"
             ],
             [
              0.7777777777777778,
              "#fb9f3a"
             ],
             [
              0.8888888888888888,
              "#fdca26"
             ],
             [
              1,
              "#f0f921"
             ]
            ],
            "type": "contour"
           }
          ],
          "contourcarpet": [
           {
            "colorbar": {
             "outlinewidth": 0,
             "ticks": ""
            },
            "type": "contourcarpet"
           }
          ],
          "heatmap": [
           {
            "colorbar": {
             "outlinewidth": 0,
             "ticks": ""
            },
            "colorscale": [
             [
              0,
              "#0d0887"
             ],
             [
              0.1111111111111111,
              "#46039f"
             ],
             [
              0.2222222222222222,
              "#7201a8"
             ],
             [
              0.3333333333333333,
              "#9c179e"
             ],
             [
              0.4444444444444444,
              "#bd3786"
             ],
             [
              0.5555555555555556,
              "#d8576b"
             ],
             [
              0.6666666666666666,
              "#ed7953"
             ],
             [
              0.7777777777777778,
              "#fb9f3a"
             ],
             [
              0.8888888888888888,
              "#fdca26"
             ],
             [
              1,
              "#f0f921"
             ]
            ],
            "type": "heatmap"
           }
          ],
          "heatmapgl": [
           {
            "colorbar": {
             "outlinewidth": 0,
             "ticks": ""
            },
            "colorscale": [
             [
              0,
              "#0d0887"
             ],
             [
              0.1111111111111111,
              "#46039f"
             ],
             [
              0.2222222222222222,
              "#7201a8"
             ],
             [
              0.3333333333333333,
              "#9c179e"
             ],
             [
              0.4444444444444444,
              "#bd3786"
             ],
             [
              0.5555555555555556,
              "#d8576b"
             ],
             [
              0.6666666666666666,
              "#ed7953"
             ],
             [
              0.7777777777777778,
              "#fb9f3a"
             ],
             [
              0.8888888888888888,
              "#fdca26"
             ],
             [
              1,
              "#f0f921"
             ]
            ],
            "type": "heatmapgl"
           }
          ],
          "histogram": [
           {
            "marker": {
             "pattern": {
              "fillmode": "overlay",
              "size": 10,
              "solidity": 0.2
             }
            },
            "type": "histogram"
           }
          ],
          "histogram2d": [
           {
            "colorbar": {
             "outlinewidth": 0,
             "ticks": ""
            },
            "colorscale": [
             [
              0,
              "#0d0887"
             ],
             [
              0.1111111111111111,
              "#46039f"
             ],
             [
              0.2222222222222222,
              "#7201a8"
             ],
             [
              0.3333333333333333,
              "#9c179e"
             ],
             [
              0.4444444444444444,
              "#bd3786"
             ],
             [
              0.5555555555555556,
              "#d8576b"
             ],
             [
              0.6666666666666666,
              "#ed7953"
             ],
             [
              0.7777777777777778,
              "#fb9f3a"
             ],
             [
              0.8888888888888888,
              "#fdca26"
             ],
             [
              1,
              "#f0f921"
             ]
            ],
            "type": "histogram2d"
           }
          ],
          "histogram2dcontour": [
           {
            "colorbar": {
             "outlinewidth": 0,
             "ticks": ""
            },
            "colorscale": [
             [
              0,
              "#0d0887"
             ],
             [
              0.1111111111111111,
              "#46039f"
             ],
             [
              0.2222222222222222,
              "#7201a8"
             ],
             [
              0.3333333333333333,
              "#9c179e"
             ],
             [
              0.4444444444444444,
              "#bd3786"
             ],
             [
              0.5555555555555556,
              "#d8576b"
             ],
             [
              0.6666666666666666,
              "#ed7953"
             ],
             [
              0.7777777777777778,
              "#fb9f3a"
             ],
             [
              0.8888888888888888,
              "#fdca26"
             ],
             [
              1,
              "#f0f921"
             ]
            ],
            "type": "histogram2dcontour"
           }
          ],
          "mesh3d": [
           {
            "colorbar": {
             "outlinewidth": 0,
             "ticks": ""
            },
            "type": "mesh3d"
           }
          ],
          "parcoords": [
           {
            "line": {
             "colorbar": {
              "outlinewidth": 0,
              "ticks": ""
             }
            },
            "type": "parcoords"
           }
          ],
          "pie": [
           {
            "automargin": true,
            "type": "pie"
           }
          ],
          "scatter": [
           {
            "fillpattern": {
             "fillmode": "overlay",
             "size": 10,
             "solidity": 0.2
            },
            "type": "scatter"
           }
          ],
          "scatter3d": [
           {
            "line": {
             "colorbar": {
              "outlinewidth": 0,
              "ticks": ""
             }
            },
            "marker": {
             "colorbar": {
              "outlinewidth": 0,
              "ticks": ""
             }
            },
            "type": "scatter3d"
           }
          ],
          "scattercarpet": [
           {
            "marker": {
             "colorbar": {
              "outlinewidth": 0,
              "ticks": ""
             }
            },
            "type": "scattercarpet"
           }
          ],
          "scattergeo": [
           {
            "marker": {
             "colorbar": {
              "outlinewidth": 0,
              "ticks": ""
             }
            },
            "type": "scattergeo"
           }
          ],
          "scattergl": [
           {
            "marker": {
             "colorbar": {
              "outlinewidth": 0,
              "ticks": ""
             }
            },
            "type": "scattergl"
           }
          ],
          "scattermapbox": [
           {
            "marker": {
             "colorbar": {
              "outlinewidth": 0,
              "ticks": ""
             }
            },
            "type": "scattermapbox"
           }
          ],
          "scatterpolar": [
           {
            "marker": {
             "colorbar": {
              "outlinewidth": 0,
              "ticks": ""
             }
            },
            "type": "scatterpolar"
           }
          ],
          "scatterpolargl": [
           {
            "marker": {
             "colorbar": {
              "outlinewidth": 0,
              "ticks": ""
             }
            },
            "type": "scatterpolargl"
           }
          ],
          "scatterternary": [
           {
            "marker": {
             "colorbar": {
              "outlinewidth": 0,
              "ticks": ""
             }
            },
            "type": "scatterternary"
           }
          ],
          "surface": [
           {
            "colorbar": {
             "outlinewidth": 0,
             "ticks": ""
            },
            "colorscale": [
             [
              0,
              "#0d0887"
             ],
             [
              0.1111111111111111,
              "#46039f"
             ],
             [
              0.2222222222222222,
              "#7201a8"
             ],
             [
              0.3333333333333333,
              "#9c179e"
             ],
             [
              0.4444444444444444,
              "#bd3786"
             ],
             [
              0.5555555555555556,
              "#d8576b"
             ],
             [
              0.6666666666666666,
              "#ed7953"
             ],
             [
              0.7777777777777778,
              "#fb9f3a"
             ],
             [
              0.8888888888888888,
              "#fdca26"
             ],
             [
              1,
              "#f0f921"
             ]
            ],
            "type": "surface"
           }
          ],
          "table": [
           {
            "cells": {
             "fill": {
              "color": "#EBF0F8"
             },
             "line": {
              "color": "white"
             }
            },
            "header": {
             "fill": {
              "color": "#C8D4E3"
             },
             "line": {
              "color": "white"
             }
            },
            "type": "table"
           }
          ]
         },
         "layout": {
          "annotationdefaults": {
           "arrowcolor": "#2a3f5f",
           "arrowhead": 0,
           "arrowwidth": 1
          },
          "autotypenumbers": "strict",
          "coloraxis": {
           "colorbar": {
            "outlinewidth": 0,
            "ticks": ""
           }
          },
          "colorscale": {
           "diverging": [
            [
             0,
             "#8e0152"
            ],
            [
             0.1,
             "#c51b7d"
            ],
            [
             0.2,
             "#de77ae"
            ],
            [
             0.3,
             "#f1b6da"
            ],
            [
             0.4,
             "#fde0ef"
            ],
            [
             0.5,
             "#f7f7f7"
            ],
            [
             0.6,
             "#e6f5d0"
            ],
            [
             0.7,
             "#b8e186"
            ],
            [
             0.8,
             "#7fbc41"
            ],
            [
             0.9,
             "#4d9221"
            ],
            [
             1,
             "#276419"
            ]
           ],
           "sequential": [
            [
             0,
             "#0d0887"
            ],
            [
             0.1111111111111111,
             "#46039f"
            ],
            [
             0.2222222222222222,
             "#7201a8"
            ],
            [
             0.3333333333333333,
             "#9c179e"
            ],
            [
             0.4444444444444444,
             "#bd3786"
            ],
            [
             0.5555555555555556,
             "#d8576b"
            ],
            [
             0.6666666666666666,
             "#ed7953"
            ],
            [
             0.7777777777777778,
             "#fb9f3a"
            ],
            [
             0.8888888888888888,
             "#fdca26"
            ],
            [
             1,
             "#f0f921"
            ]
           ],
           "sequentialminus": [
            [
             0,
             "#0d0887"
            ],
            [
             0.1111111111111111,
             "#46039f"
            ],
            [
             0.2222222222222222,
             "#7201a8"
            ],
            [
             0.3333333333333333,
             "#9c179e"
            ],
            [
             0.4444444444444444,
             "#bd3786"
            ],
            [
             0.5555555555555556,
             "#d8576b"
            ],
            [
             0.6666666666666666,
             "#ed7953"
            ],
            [
             0.7777777777777778,
             "#fb9f3a"
            ],
            [
             0.8888888888888888,
             "#fdca26"
            ],
            [
             1,
             "#f0f921"
            ]
           ]
          },
          "colorway": [
           "#636efa",
           "#EF553B",
           "#00cc96",
           "#ab63fa",
           "#FFA15A",
           "#19d3f3",
           "#FF6692",
           "#B6E880",
           "#FF97FF",
           "#FECB52"
          ],
          "font": {
           "color": "#2a3f5f"
          },
          "geo": {
           "bgcolor": "white",
           "lakecolor": "white",
           "landcolor": "#E5ECF6",
           "showlakes": true,
           "showland": true,
           "subunitcolor": "white"
          },
          "hoverlabel": {
           "align": "left"
          },
          "hovermode": "closest",
          "mapbox": {
           "style": "light"
          },
          "paper_bgcolor": "white",
          "plot_bgcolor": "#E5ECF6",
          "polar": {
           "angularaxis": {
            "gridcolor": "white",
            "linecolor": "white",
            "ticks": ""
           },
           "bgcolor": "#E5ECF6",
           "radialaxis": {
            "gridcolor": "white",
            "linecolor": "white",
            "ticks": ""
           }
          },
          "scene": {
           "xaxis": {
            "backgroundcolor": "#E5ECF6",
            "gridcolor": "white",
            "gridwidth": 2,
            "linecolor": "white",
            "showbackground": true,
            "ticks": "",
            "zerolinecolor": "white"
           },
           "yaxis": {
            "backgroundcolor": "#E5ECF6",
            "gridcolor": "white",
            "gridwidth": 2,
            "linecolor": "white",
            "showbackground": true,
            "ticks": "",
            "zerolinecolor": "white"
           },
           "zaxis": {
            "backgroundcolor": "#E5ECF6",
            "gridcolor": "white",
            "gridwidth": 2,
            "linecolor": "white",
            "showbackground": true,
            "ticks": "",
            "zerolinecolor": "white"
           }
          },
          "shapedefaults": {
           "line": {
            "color": "#2a3f5f"
           }
          },
          "ternary": {
           "aaxis": {
            "gridcolor": "white",
            "linecolor": "white",
            "ticks": ""
           },
           "baxis": {
            "gridcolor": "white",
            "linecolor": "white",
            "ticks": ""
           },
           "bgcolor": "#E5ECF6",
           "caxis": {
            "gridcolor": "white",
            "linecolor": "white",
            "ticks": ""
           }
          },
          "title": {
           "x": 0.05
          },
          "xaxis": {
           "automargin": true,
           "gridcolor": "white",
           "linecolor": "white",
           "ticks": "",
           "title": {
            "standoff": 15
           },
           "zerolinecolor": "white",
           "zerolinewidth": 2
          },
          "yaxis": {
           "automargin": true,
           "gridcolor": "white",
           "linecolor": "white",
           "ticks": "",
           "title": {
            "standoff": 15
           },
           "zerolinecolor": "white",
           "zerolinewidth": 2
          }
         }
        }
       }
      },
      "text/html": [
       "<div>                            <div id=\"a83f990f-dd3e-47e0-a636-c776503ac9ee\" class=\"plotly-graph-div\" style=\"height:300px; width:100%;\"></div>            <script type=\"text/javascript\">                require([\"plotly\"], function(Plotly) {                    window.PLOTLYENV=window.PLOTLYENV || {};                                    if (document.getElementById(\"a83f990f-dd3e-47e0-a636-c776503ac9ee\")) {                    Plotly.newPlot(                        \"a83f990f-dd3e-47e0-a636-c776503ac9ee\",                        [{\"coloraxis\":\"coloraxis\",\"geo\":\"geo\",\"hovertemplate\":\"<b>%{hovertext}</b><br><br>iso_alpha=%{location}<br>ratio=%{z}<extra></extra>\",\"hovertext\":[\"Asia\",\"Europe\",\"Africa\",\"Africa\",\"Americas\",\"Oceania\",\"Europe\",\"Asia\",\"Asia\",\"Europe\",\"Africa\",\"Americas\",\"Europe\",\"Africa\",\"Americas\",\"Europe\",\"Africa\",\"Africa\",\"Asia\",\"Africa\",\"Americas\",\"Africa\",\"Africa\",\"Americas\",\"Asia\",\"Americas\",\"Africa\",\"Africa\",\"Africa\",\"Americas\",\"Africa\",\"Europe\",\"Americas\",\"Europe\",\"Europe\",\"Africa\",\"Americas\",\"Americas\",\"Africa\",\"Americas\",\"Africa\",\"Africa\",\"Africa\",\"Europe\",\"Europe\",\"Africa\",\"Africa\",\"Europe\",\"Africa\",\"Europe\",\"Americas\",\"Africa\",\"Africa\",\"Americas\",\"Americas\",\"Asia\",\"Europe\",\"Europe\",\"Asia\",\"Asia\",\"Asia\",\"Asia\",\"Europe\",\"Asia\",\"Europe\",\"Americas\",\"Asia\",\"Asia\",\"Africa\",\"Asia\",\"Asia\",\"Asia\",\"Asia\",\"Africa\",\"Africa\",\"Africa\",\"Africa\",\"Africa\",\"Asia\",\"Africa\",\"Africa\",\"Africa\",\"Americas\",\"Asia\",\"Europe\",\"Africa\",\"Africa\",\"Asia\",\"Africa\",\"Asia\",\"Europe\",\"Oceania\",\"Americas\",\"Africa\",\"Africa\",\"Europe\",\"Asia\",\"Asia\",\"Americas\",\"Americas\",\"Americas\",\"Asia\",\"Europe\",\"Europe\",\"Americas\",\"Africa\",\"Europe\",\"Africa\",\"Africa\",\"Asia\",\"Africa\",\"Europe\",\"Africa\",\"Asia\",\"Europe\",\"Europe\",\"Africa\",\"Africa\",\"Europe\",\"Asia\",\"Africa\",\"Africa\",\"Europe\",\"Europe\",\"Asia\",\"Asia\",\"Africa\",\"Asia\",\"Africa\",\"Americas\",\"Africa\",\"Europe\",\"Africa\",\"Europe\",\"Americas\",\"Americas\",\"Americas\",\"Asia\",\"Asia\",\"Asia\",\"Africa\",\"Africa\"],\"locations\":[\"AFG\",\"ALB\",\"DZA\",\"AGO\",\"ARG\",\"AUS\",\"AUT\",\"BHR\",\"BGD\",\"BEL\",\"BEN\",\"BOL\",\"BIH\",\"BWA\",\"BRA\",\"BGR\",\"BFA\",\"BDI\",\"KHM\",\"CMR\",\"CAN\",\"CAF\",\"TCD\",\"CHL\",\"CHN\",\"COL\",\"COM\",\"COD\",\"COG\",\"CRI\",\"CIV\",\"HRV\",\"CUB\",\"CZE\",\"DNK\",\"DJI\",\"DOM\",\"ECU\",\"EGY\",\"SLV\",\"GNQ\",\"ERI\",\"ETH\",\"FIN\",\"FRA\",\"GAB\",\"GMB\",\"DEU\",\"GHA\",\"GRC\",\"GTM\",\"GIN\",\"GNB\",\"HTI\",\"HND\",\"HKG\",\"HUN\",\"ISL\",\"IND\",\"IDN\",\"IRN\",\"IRQ\",\"IRL\",\"ISR\",\"ITA\",\"JAM\",\"JPN\",\"JOR\",\"KEN\",\"KOR\",\"KOR\",\"KWT\",\"LBN\",\"LSO\",\"LBR\",\"LBY\",\"MDG\",\"MWI\",\"MYS\",\"MLI\",\"MRT\",\"MUS\",\"MEX\",\"MNG\",\"MNE\",\"MAR\",\"MOZ\",\"MMR\",\"NAM\",\"NPL\",\"NLD\",\"NZL\",\"NIC\",\"NER\",\"NGA\",\"NOR\",\"OMN\",\"PAK\",\"PAN\",\"PRY\",\"PER\",\"PHL\",\"POL\",\"PRT\",\"PRI\",\"REU\",\"ROU\",\"RWA\",\"STP\",\"SAU\",\"SEN\",\"SRB\",\"SLE\",\"SGP\",\"SVK\",\"SVN\",\"SOM\",\"ZAF\",\"ESP\",\"LKA\",\"SDN\",\"SWZ\",\"SWE\",\"CHE\",\"SYR\",\"TWN\",\"TZA\",\"THA\",\"TGO\",\"TTO\",\"TUN\",\"TUR\",\"UGA\",\"GBR\",\"USA\",\"URY\",\"VEN\",\"VNM\",\"PSE\",\"YEM\",\"ZMB\",\"ZWE\"],\"name\":\"\",\"z\":[30.118110236220474,19.82248520710059,21.94513715710723,21.94513715710723,25.045372050816695,21.53846153846154,19.82248520710059,30.118110236220474,30.118110236220474,19.82248520710059,21.94513715710723,25.045372050816695,19.82248520710059,21.94513715710723,25.045372050816695,19.82248520710059,21.94513715710723,21.94513715710723,30.118110236220474,21.94513715710723,25.045372050816695,21.94513715710723,21.94513715710723,25.045372050816695,30.118110236220474,25.045372050816695,21.94513715710723,21.94513715710723,21.94513715710723,25.045372050816695,21.94513715710723,19.82248520710059,25.045372050816695,19.82248520710059,19.82248520710059,21.94513715710723,25.045372050816695,25.045372050816695,21.94513715710723,25.045372050816695,21.94513715710723,21.94513715710723,21.94513715710723,19.82248520710059,19.82248520710059,21.94513715710723,21.94513715710723,19.82248520710059,21.94513715710723,19.82248520710059,25.045372050816695,21.94513715710723,21.94513715710723,25.045372050816695,25.045372050816695,30.118110236220474,19.82248520710059,19.82248520710059,30.118110236220474,30.118110236220474,30.118110236220474,30.118110236220474,19.82248520710059,30.118110236220474,19.82248520710059,25.045372050816695,30.118110236220474,30.118110236220474,21.94513715710723,30.118110236220474,30.118110236220474,30.118110236220474,30.118110236220474,21.94513715710723,21.94513715710723,21.94513715710723,21.94513715710723,21.94513715710723,30.118110236220474,21.94513715710723,21.94513715710723,21.94513715710723,25.045372050816695,30.118110236220474,19.82248520710059,21.94513715710723,21.94513715710723,30.118110236220474,21.94513715710723,30.118110236220474,19.82248520710059,21.53846153846154,25.045372050816695,21.94513715710723,21.94513715710723,19.82248520710059,30.118110236220474,30.118110236220474,25.045372050816695,25.045372050816695,25.045372050816695,30.118110236220474,19.82248520710059,19.82248520710059,25.045372050816695,21.94513715710723,19.82248520710059,21.94513715710723,21.94513715710723,30.118110236220474,21.94513715710723,19.82248520710059,21.94513715710723,30.118110236220474,19.82248520710059,19.82248520710059,21.94513715710723,21.94513715710723,19.82248520710059,30.118110236220474,21.94513715710723,21.94513715710723,19.82248520710059,19.82248520710059,30.118110236220474,30.118110236220474,21.94513715710723,30.118110236220474,21.94513715710723,25.045372050816695,21.94513715710723,19.82248520710059,21.94513715710723,19.82248520710059,25.045372050816695,25.045372050816695,25.045372050816695,30.118110236220474,30.118110236220474,30.118110236220474,21.94513715710723,21.94513715710723],\"type\":\"choropleth\"}],                        {\"template\":{\"data\":{\"histogram2dcontour\":[{\"type\":\"histogram2dcontour\",\"colorbar\":{\"outlinewidth\":0,\"ticks\":\"\"},\"colorscale\":[[0.0,\"#0d0887\"],[0.1111111111111111,\"#46039f\"],[0.2222222222222222,\"#7201a8\"],[0.3333333333333333,\"#9c179e\"],[0.4444444444444444,\"#bd3786\"],[0.5555555555555556,\"#d8576b\"],[0.6666666666666666,\"#ed7953\"],[0.7777777777777778,\"#fb9f3a\"],[0.8888888888888888,\"#fdca26\"],[1.0,\"#f0f921\"]]}],\"choropleth\":[{\"type\":\"choropleth\",\"colorbar\":{\"outlinewidth\":0,\"ticks\":\"\"}}],\"histogram2d\":[{\"type\":\"histogram2d\",\"colorbar\":{\"outlinewidth\":0,\"ticks\":\"\"},\"colorscale\":[[0.0,\"#0d0887\"],[0.1111111111111111,\"#46039f\"],[0.2222222222222222,\"#7201a8\"],[0.3333333333333333,\"#9c179e\"],[0.4444444444444444,\"#bd3786\"],[0.5555555555555556,\"#d8576b\"],[0.6666666666666666,\"#ed7953\"],[0.7777777777777778,\"#fb9f3a\"],[0.8888888888888888,\"#fdca26\"],[1.0,\"#f0f921\"]]}],\"heatmap\":[{\"type\":\"heatmap\",\"colorbar\":{\"outlinewidth\":0,\"ticks\":\"\"},\"colorscale\":[[0.0,\"#0d0887\"],[0.1111111111111111,\"#46039f\"],[0.2222222222222222,\"#7201a8\"],[0.3333333333333333,\"#9c179e\"],[0.4444444444444444,\"#bd3786\"],[0.5555555555555556,\"#d8576b\"],[0.6666666666666666,\"#ed7953\"],[0.7777777777777778,\"#fb9f3a\"],[0.8888888888888888,\"#fdca26\"],[1.0,\"#f0f921\"]]}],\"heatmapgl\":[{\"type\":\"heatmapgl\",\"colorbar\":{\"outlinewidth\":0,\"ticks\":\"\"},\"colorscale\":[[0.0,\"#0d0887\"],[0.1111111111111111,\"#46039f\"],[0.2222222222222222,\"#7201a8\"],[0.3333333333333333,\"#9c179e\"],[0.4444444444444444,\"#bd3786\"],[0.5555555555555556,\"#d8576b\"],[0.6666666666666666,\"#ed7953\"],[0.7777777777777778,\"#fb9f3a\"],[0.8888888888888888,\"#fdca26\"],[1.0,\"#f0f921\"]]}],\"contourcarpet\":[{\"type\":\"contourcarpet\",\"colorbar\":{\"outlinewidth\":0,\"ticks\":\"\"}}],\"contour\":[{\"type\":\"contour\",\"colorbar\":{\"outlinewidth\":0,\"ticks\":\"\"},\"colorscale\":[[0.0,\"#0d0887\"],[0.1111111111111111,\"#46039f\"],[0.2222222222222222,\"#7201a8\"],[0.3333333333333333,\"#9c179e\"],[0.4444444444444444,\"#bd3786\"],[0.5555555555555556,\"#d8576b\"],[0.6666666666666666,\"#ed7953\"],[0.7777777777777778,\"#fb9f3a\"],[0.8888888888888888,\"#fdca26\"],[1.0,\"#f0f921\"]]}],\"surface\":[{\"type\":\"surface\",\"colorbar\":{\"outlinewidth\":0,\"ticks\":\"\"},\"colorscale\":[[0.0,\"#0d0887\"],[0.1111111111111111,\"#46039f\"],[0.2222222222222222,\"#7201a8\"],[0.3333333333333333,\"#9c179e\"],[0.4444444444444444,\"#bd3786\"],[0.5555555555555556,\"#d8576b\"],[0.6666666666666666,\"#ed7953\"],[0.7777777777777778,\"#fb9f3a\"],[0.8888888888888888,\"#fdca26\"],[1.0,\"#f0f921\"]]}],\"mesh3d\":[{\"type\":\"mesh3d\",\"colorbar\":{\"outlinewidth\":0,\"ticks\":\"\"}}],\"scatter\":[{\"fillpattern\":{\"fillmode\":\"overlay\",\"size\":10,\"solidity\":0.2},\"type\":\"scatter\"}],\"parcoords\":[{\"type\":\"parcoords\",\"line\":{\"colorbar\":{\"outlinewidth\":0,\"ticks\":\"\"}}}],\"scatterpolargl\":[{\"type\":\"scatterpolargl\",\"marker\":{\"colorbar\":{\"outlinewidth\":0,\"ticks\":\"\"}}}],\"bar\":[{\"error_x\":{\"color\":\"#2a3f5f\"},\"error_y\":{\"color\":\"#2a3f5f\"},\"marker\":{\"line\":{\"color\":\"#E5ECF6\",\"width\":0.5},\"pattern\":{\"fillmode\":\"overlay\",\"size\":10,\"solidity\":0.2}},\"type\":\"bar\"}],\"scattergeo\":[{\"type\":\"scattergeo\",\"marker\":{\"colorbar\":{\"outlinewidth\":0,\"ticks\":\"\"}}}],\"scatterpolar\":[{\"type\":\"scatterpolar\",\"marker\":{\"colorbar\":{\"outlinewidth\":0,\"ticks\":\"\"}}}],\"histogram\":[{\"marker\":{\"pattern\":{\"fillmode\":\"overlay\",\"size\":10,\"solidity\":0.2}},\"type\":\"histogram\"}],\"scattergl\":[{\"type\":\"scattergl\",\"marker\":{\"colorbar\":{\"outlinewidth\":0,\"ticks\":\"\"}}}],\"scatter3d\":[{\"type\":\"scatter3d\",\"line\":{\"colorbar\":{\"outlinewidth\":0,\"ticks\":\"\"}},\"marker\":{\"colorbar\":{\"outlinewidth\":0,\"ticks\":\"\"}}}],\"scattermapbox\":[{\"type\":\"scattermapbox\",\"marker\":{\"colorbar\":{\"outlinewidth\":0,\"ticks\":\"\"}}}],\"scatterternary\":[{\"type\":\"scatterternary\",\"marker\":{\"colorbar\":{\"outlinewidth\":0,\"ticks\":\"\"}}}],\"scattercarpet\":[{\"type\":\"scattercarpet\",\"marker\":{\"colorbar\":{\"outlinewidth\":0,\"ticks\":\"\"}}}],\"carpet\":[{\"aaxis\":{\"endlinecolor\":\"#2a3f5f\",\"gridcolor\":\"white\",\"linecolor\":\"white\",\"minorgridcolor\":\"white\",\"startlinecolor\":\"#2a3f5f\"},\"baxis\":{\"endlinecolor\":\"#2a3f5f\",\"gridcolor\":\"white\",\"linecolor\":\"white\",\"minorgridcolor\":\"white\",\"startlinecolor\":\"#2a3f5f\"},\"type\":\"carpet\"}],\"table\":[{\"cells\":{\"fill\":{\"color\":\"#EBF0F8\"},\"line\":{\"color\":\"white\"}},\"header\":{\"fill\":{\"color\":\"#C8D4E3\"},\"line\":{\"color\":\"white\"}},\"type\":\"table\"}],\"barpolar\":[{\"marker\":{\"line\":{\"color\":\"#E5ECF6\",\"width\":0.5},\"pattern\":{\"fillmode\":\"overlay\",\"size\":10,\"solidity\":0.2}},\"type\":\"barpolar\"}],\"pie\":[{\"automargin\":true,\"type\":\"pie\"}]},\"layout\":{\"autotypenumbers\":\"strict\",\"colorway\":[\"#636efa\",\"#EF553B\",\"#00cc96\",\"#ab63fa\",\"#FFA15A\",\"#19d3f3\",\"#FF6692\",\"#B6E880\",\"#FF97FF\",\"#FECB52\"],\"font\":{\"color\":\"#2a3f5f\"},\"hovermode\":\"closest\",\"hoverlabel\":{\"align\":\"left\"},\"paper_bgcolor\":\"white\",\"plot_bgcolor\":\"#E5ECF6\",\"polar\":{\"bgcolor\":\"#E5ECF6\",\"angularaxis\":{\"gridcolor\":\"white\",\"linecolor\":\"white\",\"ticks\":\"\"},\"radialaxis\":{\"gridcolor\":\"white\",\"linecolor\":\"white\",\"ticks\":\"\"}},\"ternary\":{\"bgcolor\":\"#E5ECF6\",\"aaxis\":{\"gridcolor\":\"white\",\"linecolor\":\"white\",\"ticks\":\"\"},\"baxis\":{\"gridcolor\":\"white\",\"linecolor\":\"white\",\"ticks\":\"\"},\"caxis\":{\"gridcolor\":\"white\",\"linecolor\":\"white\",\"ticks\":\"\"}},\"coloraxis\":{\"colorbar\":{\"outlinewidth\":0,\"ticks\":\"\"}},\"colorscale\":{\"sequential\":[[0.0,\"#0d0887\"],[0.1111111111111111,\"#46039f\"],[0.2222222222222222,\"#7201a8\"],[0.3333333333333333,\"#9c179e\"],[0.4444444444444444,\"#bd3786\"],[0.5555555555555556,\"#d8576b\"],[0.6666666666666666,\"#ed7953\"],[0.7777777777777778,\"#fb9f3a\"],[0.8888888888888888,\"#fdca26\"],[1.0,\"#f0f921\"]],\"sequentialminus\":[[0.0,\"#0d0887\"],[0.1111111111111111,\"#46039f\"],[0.2222222222222222,\"#7201a8\"],[0.3333333333333333,\"#9c179e\"],[0.4444444444444444,\"#bd3786\"],[0.5555555555555556,\"#d8576b\"],[0.6666666666666666,\"#ed7953\"],[0.7777777777777778,\"#fb9f3a\"],[0.8888888888888888,\"#fdca26\"],[1.0,\"#f0f921\"]],\"diverging\":[[0,\"#8e0152\"],[0.1,\"#c51b7d\"],[0.2,\"#de77ae\"],[0.3,\"#f1b6da\"],[0.4,\"#fde0ef\"],[0.5,\"#f7f7f7\"],[0.6,\"#e6f5d0\"],[0.7,\"#b8e186\"],[0.8,\"#7fbc41\"],[0.9,\"#4d9221\"],[1,\"#276419\"]]},\"xaxis\":{\"gridcolor\":\"white\",\"linecolor\":\"white\",\"ticks\":\"\",\"title\":{\"standoff\":15},\"zerolinecolor\":\"white\",\"automargin\":true,\"zerolinewidth\":2},\"yaxis\":{\"gridcolor\":\"white\",\"linecolor\":\"white\",\"ticks\":\"\",\"title\":{\"standoff\":15},\"zerolinecolor\":\"white\",\"automargin\":true,\"zerolinewidth\":2},\"scene\":{\"xaxis\":{\"backgroundcolor\":\"#E5ECF6\",\"gridcolor\":\"white\",\"linecolor\":\"white\",\"showbackground\":true,\"ticks\":\"\",\"zerolinecolor\":\"white\",\"gridwidth\":2},\"yaxis\":{\"backgroundcolor\":\"#E5ECF6\",\"gridcolor\":\"white\",\"linecolor\":\"white\",\"showbackground\":true,\"ticks\":\"\",\"zerolinecolor\":\"white\",\"gridwidth\":2},\"zaxis\":{\"backgroundcolor\":\"#E5ECF6\",\"gridcolor\":\"white\",\"linecolor\":\"white\",\"showbackground\":true,\"ticks\":\"\",\"zerolinecolor\":\"white\",\"gridwidth\":2}},\"shapedefaults\":{\"line\":{\"color\":\"#2a3f5f\"}},\"annotationdefaults\":{\"arrowcolor\":\"#2a3f5f\",\"arrowhead\":0,\"arrowwidth\":1},\"geo\":{\"bgcolor\":\"white\",\"landcolor\":\"#E5ECF6\",\"subunitcolor\":\"white\",\"showland\":true,\"showlakes\":true,\"lakecolor\":\"white\"},\"title\":{\"x\":0.05},\"mapbox\":{\"style\":\"light\"}}},\"geo\":{\"domain\":{\"x\":[0.0,1.0],\"y\":[0.0,1.0]},\"center\":{},\"projection\":{\"type\":\"natural earth\"}},\"coloraxis\":{\"colorbar\":{\"title\":{\"text\":\"ratio\"}},\"colorscale\":[[0.0,\"#0d0887\"],[0.1111111111111111,\"#46039f\"],[0.2222222222222222,\"#7201a8\"],[0.3333333333333333,\"#9c179e\"],[0.4444444444444444,\"#bd3786\"],[0.5555555555555556,\"#d8576b\"],[0.6666666666666666,\"#ed7953\"],[0.7777777777777778,\"#fb9f3a\"],[0.8888888888888888,\"#fdca26\"],[1.0,\"#f0f921\"]]},\"legend\":{\"tracegroupgap\":0},\"margin\":{\"t\":0,\"r\":0,\"l\":0,\"b\":0},\"height\":300},                        {\"responsive\": true}                    ).then(function(){\n",
       "                            \n",
       "var gd = document.getElementById('a83f990f-dd3e-47e0-a636-c776503ac9ee');\n",
       "var x = new MutationObserver(function (mutations, observer) {{\n",
       "        var display = window.getComputedStyle(gd).display;\n",
       "        if (!display || display === 'none') {{\n",
       "            console.log([gd, 'removed!']);\n",
       "            Plotly.purge(gd);\n",
       "            observer.disconnect();\n",
       "        }}\n",
       "}});\n",
       "\n",
       "// Listen for the removal of the full notebook cells\n",
       "var notebookContainer = gd.closest('#notebook-container');\n",
       "if (notebookContainer) {{\n",
       "    x.observe(notebookContainer, {childList: true});\n",
       "}}\n",
       "\n",
       "// Listen for the clearing of the current output cell\n",
       "var outputEl = gd.closest('.output');\n",
       "if (outputEl) {{\n",
       "    x.observe(outputEl, {childList: true});\n",
       "}}\n",
       "\n",
       "                        })                };                });            </script>        </div>"
      ]
     },
     "metadata": {},
     "output_type": "display_data"
    }
   ],
   "source": [
    "fig = go.Figure(go.Scattergeo())\n",
    "\n",
    "gapminder = px.data.gapminder().query(\"year==2007\")\n",
    "geojson = px.data.election_geojson()\n",
    "\n",
    "df = pd.merge(gapminder, Continents_df, how='left', on='continent')\n",
    "\n",
    "fig = px.choropleth(df, locations=\"iso_alpha\",\n",
    "                    color=\"ratio\", \n",
    "                    hover_name=\"continent\",\n",
    "                    color_continuous_scale= px.colors.sequential.Plasma)\n",
    "fig.update_geos(projection_type=\"natural earth\")\n",
    "fig.update_layout(height=300, margin={\"r\":0,\"t\":0,\"l\":0,\"b\":0})\n",
    "fig.show()"
   ]
  },
  {
   "attachments": {
    "%E2%80%8F%E2%80%8F%D7%9C%D7%9B%D7%99%D7%93%D7%94.PNG": {
     "image/png": "[encoded data removed]"
    }
   },
   "cell_type": "markdown",
   "id": "9545af12",
   "metadata": {},
   "source": [
    "![%E2%80%8F%E2%80%8F%D7%9C%D7%9B%D7%99%D7%93%D7%94.PNG](attachment:%E2%80%8F%E2%80%8F%D7%9C%D7%9B%D7%99%D7%93%D7%94.PNG)"
   ]
  },
  {
   "cell_type": "markdown",
   "id": "38fee203",
   "metadata": {},
   "source": [
    "# Outliers"
   ]
  },
  {
   "cell_type": "markdown",
   "id": "42f71806",
   "metadata": {},
   "source": [
    "I checked is there any outliers with the length/weight but in the end i found that it doesn't affect the model "
   ]
  },
  {
   "cell_type": "code",
   "execution_count": 338,
   "id": "59a9612b",
   "metadata": {},
   "outputs": [
    {
     "data": {
      "text/plain": [
       "<AxesSubplot:xlabel='Length(cm)'>"
      ]
     },
     "execution_count": 338,
     "metadata": {},
     "output_type": "execute_result"
    },
    {
     "data": {
      "image/png": "[encoded data removed]",
      "text/plain": [
       "<Figure size 640x480 with 1 Axes>"
      ]
     },
     "metadata": {},
     "output_type": "display_data"
    }
   ],
   "source": [
    "sns.boxplot(df_copy[\"Length(cm)\"], whis=6)"
   ]
  },
  {
   "cell_type": "code",
   "execution_count": 339,
   "id": "9267c0bd",
   "metadata": {},
   "outputs": [
    {
     "data": {
      "text/plain": [
       "14"
      ]
     },
     "execution_count": 339,
     "metadata": {},
     "output_type": "execute_result"
    }
   ],
   "source": [
    "Q1 = np.percentile(df_copy['Length(cm)'], 25)\n",
    "Q3 = np.percentile(df_copy['Length(cm)'], 75)\n",
    "IQR = Q3 - Q1\n",
    "outliers_length = df_copy[(df_copy['Length(cm)'] < Q1 - 1.5 * IQR) |\n",
    "                    (df_copy['Length(cm)'] > Q3 + 10 * IQR)].index\n",
    "len(outliers_length)"
   ]
  },
  {
   "cell_type": "code",
   "execution_count": 340,
   "id": "2145fd74",
   "metadata": {},
   "outputs": [
    {
     "data": {
      "text/plain": [
       "<AxesSubplot:xlabel='Weight(kg)'>"
      ]
     },
     "execution_count": 340,
     "metadata": {},
     "output_type": "execute_result"
    },
    {
     "data": {
      "image/png": "[encoded data removed]",
      "text/plain": [
       "<Figure size 640x480 with 1 Axes>"
      ]
     },
     "metadata": {},
     "output_type": "display_data"
    }
   ],
   "source": [
    "sns.boxplot(df_copy['Weight(kg)'], whis=10)"
   ]
  },
  {
   "cell_type": "code",
   "execution_count": 342,
   "id": "c5aeee59",
   "metadata": {},
   "outputs": [
    {
     "data": {
      "text/plain": [
       "1"
      ]
     },
     "execution_count": 342,
     "metadata": {},
     "output_type": "execute_result"
    }
   ],
   "source": [
    "Q1 = np.percentile(df_copy['Weight(kg)'], 25)\n",
    "Q3 = np.percentile(df_copy['Weight(kg)'], 75)\n",
    "IQR = Q3 - Q1\n",
    "outliers_length = df_copy[(df_copy['Weight(kg)'] < Q1 - 1.5 * IQR) |\n",
    "                    (df_copy['Weight(kg)'] > Q3 + 256 * IQR)].index\n",
    "len(outliers_length)"
   ]
  },
  {
   "cell_type": "code",
   "execution_count": 344,
   "id": "11bd46c9",
   "metadata": {},
   "outputs": [
    {
     "data": {
      "text/plain": [
       "<seaborn.axisgrid.PairGrid at 0x25f2aa3b790>"
      ]
     },
     "execution_count": 344,
     "metadata": {},
     "output_type": "execute_result"
    },
    {
     "data": {
      "image/png": "[encoded data removed]",
      "text/plain": [
       "<Figure size 500x500 with 6 Axes>"
      ]
     },
     "metadata": {},
     "output_type": "display_data"
    }
   ],
   "source": [
    "sns.pairplot(df_copy[['Length(cm)', 'Weight(kg)']])"
   ]
  }
 ],
 "metadata": {
  "kernelspec": {
   "display_name": "Python 3 (ipykernel)",
   "language": "python",
   "name": "python3"
  },
  "language_info": {
   "codemirror_mode": {
    "name": "ipython",
    "version": 3
   },
   "file_extension": ".py",
   "mimetype": "text/x-python",
   "name": "python",
   "nbconvert_exporter": "python",
   "pygments_lexer": "ipython3",
   "version": "3.9.13"
  }
 },
 "nbformat": 4,
 "nbformat_minor": 5
}
